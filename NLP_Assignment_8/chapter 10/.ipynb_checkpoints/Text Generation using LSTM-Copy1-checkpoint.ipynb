{
 "cells": [
  {
   "cell_type": "code",
   "execution_count": 1,
   "metadata": {},
   "outputs": [],
   "source": [
    "import nltk\n",
    "from nltk.corpus import stopwords\n",
    "import pandas as pd\n",
    "import numpy as np\n",
    "import re\n",
    "from keras.preprocessing.sequence import pad_sequences\n",
    "from keras.utils import to_categorical\n",
    "from keras.models import Sequential\n",
    "from keras.layers import Dense, LSTM, Dropout, Embedding"
   ]
  },
  {
   "cell_type": "code",
   "execution_count": 2,
   "metadata": {},
   "outputs": [],
   "source": [
    "data = pd.read_csv('hotel_data.csv')"
   ]
  },
  {
   "cell_type": "code",
   "execution_count": 3,
   "metadata": {},
   "outputs": [
    {
     "data": {
      "text/html": [
       "<div>\n",
       "<style scoped>\n",
       "    .dataframe tbody tr th:only-of-type {\n",
       "        vertical-align: middle;\n",
       "    }\n",
       "\n",
       "    .dataframe tbody tr th {\n",
       "        vertical-align: top;\n",
       "    }\n",
       "\n",
       "    .dataframe thead th {\n",
       "        text-align: right;\n",
       "    }\n",
       "</style>\n",
       "<table border=\"1\" class=\"dataframe\">\n",
       "  <thead>\n",
       "    <tr style=\"text-align: right;\">\n",
       "      <th></th>\n",
       "      <th>area</th>\n",
       "      <th>city</th>\n",
       "      <th>country</th>\n",
       "      <th>crawl_date</th>\n",
       "      <th>highlight_value</th>\n",
       "      <th>hotel_overview</th>\n",
       "      <th>hotel_star_rating</th>\n",
       "      <th>image_urls</th>\n",
       "      <th>in_your_room</th>\n",
       "      <th>is_value_plus</th>\n",
       "      <th>...</th>\n",
       "      <th>property_type</th>\n",
       "      <th>qts</th>\n",
       "      <th>query_time_stamp</th>\n",
       "      <th>room_types</th>\n",
       "      <th>site_review_count</th>\n",
       "      <th>site_review_rating</th>\n",
       "      <th>sitename</th>\n",
       "      <th>state</th>\n",
       "      <th>traveller_rating</th>\n",
       "      <th>uniq_id</th>\n",
       "    </tr>\n",
       "  </thead>\n",
       "  <tbody>\n",
       "    <tr>\n",
       "      <th>0</th>\n",
       "      <td>Hardasji Ki Magri</td>\n",
       "      <td>Udaipur</td>\n",
       "      <td>India</td>\n",
       "      <td>2016-06-21</td>\n",
       "      <td>{{facility}}</td>\n",
       "      <td>|Zion Home Stay is located in a city that sets...</td>\n",
       "      <td>1 star</td>\n",
       "      <td>NaN</td>\n",
       "      <td>{{value}}</td>\n",
       "      <td>no</td>\n",
       "      <td>...</td>\n",
       "      <td>Hotel</td>\n",
       "      <td>NaN</td>\n",
       "      <td>2016-06-21 04:06:50 +0000</td>\n",
       "      <td>NaN</td>\n",
       "      <td>/5</td>\n",
       "      <td>4.5</td>\n",
       "      <td>makemytrip</td>\n",
       "      <td>NaN</td>\n",
       "      <td>NaN</td>\n",
       "      <td>78ddf880bd7937d384ff278cc5b39d6e</td>\n",
       "    </tr>\n",
       "    <tr>\n",
       "      <th>1</th>\n",
       "      <td>Near Nai Gaon</td>\n",
       "      <td>Udaipur</td>\n",
       "      <td>India</td>\n",
       "      <td>2016-06-21</td>\n",
       "      <td>{{facility}}</td>\n",
       "      <td>| Araliayas Resorts is a 3 star hotel located ...</td>\n",
       "      <td>3 star</td>\n",
       "      <td>NaN</td>\n",
       "      <td>{{value}}</td>\n",
       "      <td>no</td>\n",
       "      <td>...</td>\n",
       "      <td>Hotel</td>\n",
       "      <td>NaN</td>\n",
       "      <td>2016-06-21 04:06:50 +0000</td>\n",
       "      <td>NaN</td>\n",
       "      <td>/5</td>\n",
       "      <td>4.5</td>\n",
       "      <td>makemytrip</td>\n",
       "      <td>NaN</td>\n",
       "      <td>NaN</td>\n",
       "      <td>9f9f9cbb2f7df8089b63d5cdeb257944</td>\n",
       "    </tr>\n",
       "    <tr>\n",
       "      <th>2</th>\n",
       "      <td>Near Bagore Ki Haveli</td>\n",
       "      <td>Udaipur</td>\n",
       "      <td>India</td>\n",
       "      <td>2016-06-21</td>\n",
       "      <td>{{facility}}</td>\n",
       "      <td>|A 2 star property is located at 24 km from Ma...</td>\n",
       "      <td>2 star</td>\n",
       "      <td>NaN</td>\n",
       "      <td>{{value}}</td>\n",
       "      <td>no</td>\n",
       "      <td>...</td>\n",
       "      <td>Hotel</td>\n",
       "      <td>NaN</td>\n",
       "      <td>2016-06-21 04:06:50 +0000</td>\n",
       "      <td>NaN</td>\n",
       "      <td>/5</td>\n",
       "      <td>NaN</td>\n",
       "      <td>makemytrip</td>\n",
       "      <td>NaN</td>\n",
       "      <td>NaN</td>\n",
       "      <td>b314bb7fa8bfb1ed306f517be21d729e</td>\n",
       "    </tr>\n",
       "    <tr>\n",
       "      <th>3</th>\n",
       "      <td>Dabok</td>\n",
       "      <td>Udaipur</td>\n",
       "      <td>India</td>\n",
       "      <td>2016-06-21</td>\n",
       "      <td>Airport Transfer|Car rental|Conference Hall|Cu...</td>\n",
       "      <td>|SNP House Airport Hotel And Restaurant is loa...</td>\n",
       "      <td>1 star</td>\n",
       "      <td>//imghtlak.mmtcdn.com/images/hotels/2014071815...</td>\n",
       "      <td>NaN</td>\n",
       "      <td>no</td>\n",
       "      <td>...</td>\n",
       "      <td>Hotel</td>\n",
       "      <td>NaN</td>\n",
       "      <td>2016-06-21 04:06:50 +0000</td>\n",
       "      <td>`standard</td>\n",
       "      <td>/5</td>\n",
       "      <td>NaN</td>\n",
       "      <td>makemytrip</td>\n",
       "      <td>NaN</td>\n",
       "      <td>NaN</td>\n",
       "      <td>e6f5bb3c2d76a78d978b9ceb0e31ec56</td>\n",
       "    </tr>\n",
       "    <tr>\n",
       "      <th>4</th>\n",
       "      <td>East Udaipur</td>\n",
       "      <td>Udaipur</td>\n",
       "      <td>India</td>\n",
       "      <td>2016-06-21</td>\n",
       "      <td>{{facility}}</td>\n",
       "      <td>| Hotel Pichola Haveli is situated in the beau...</td>\n",
       "      <td>2 star</td>\n",
       "      <td>NaN</td>\n",
       "      <td>{{value}}</td>\n",
       "      <td>no</td>\n",
       "      <td>...</td>\n",
       "      <td>Hotel</td>\n",
       "      <td>NaN</td>\n",
       "      <td>2016-06-21 04:06:50 +0000</td>\n",
       "      <td>NaN</td>\n",
       "      <td>/5</td>\n",
       "      <td>3.7</td>\n",
       "      <td>makemytrip</td>\n",
       "      <td>NaN</td>\n",
       "      <td>NaN</td>\n",
       "      <td>63072c301427b6ca450d31eea127bcf0</td>\n",
       "    </tr>\n",
       "  </tbody>\n",
       "</table>\n",
       "<p>5 rows × 33 columns</p>\n",
       "</div>"
      ],
      "text/plain": [
       "                    area     city country  crawl_date  \\\n",
       "0      Hardasji Ki Magri  Udaipur   India  2016-06-21   \n",
       "1          Near Nai Gaon  Udaipur   India  2016-06-21   \n",
       "2  Near Bagore Ki Haveli  Udaipur   India  2016-06-21   \n",
       "3                  Dabok  Udaipur   India  2016-06-21   \n",
       "4           East Udaipur  Udaipur   India  2016-06-21   \n",
       "\n",
       "                                     highlight_value  \\\n",
       "0                                       {{facility}}   \n",
       "1                                       {{facility}}   \n",
       "2                                       {{facility}}   \n",
       "3  Airport Transfer|Car rental|Conference Hall|Cu...   \n",
       "4                                       {{facility}}   \n",
       "\n",
       "                                      hotel_overview hotel_star_rating  \\\n",
       "0  |Zion Home Stay is located in a city that sets...            1 star   \n",
       "1  | Araliayas Resorts is a 3 star hotel located ...            3 star   \n",
       "2  |A 2 star property is located at 24 km from Ma...            2 star   \n",
       "3  |SNP House Airport Hotel And Restaurant is loa...            1 star   \n",
       "4  | Hotel Pichola Haveli is situated in the beau...            2 star   \n",
       "\n",
       "                                          image_urls in_your_room  \\\n",
       "0                                                NaN    {{value}}   \n",
       "1                                                NaN    {{value}}   \n",
       "2                                                NaN    {{value}}   \n",
       "3  //imghtlak.mmtcdn.com/images/hotels/2014071815...          NaN   \n",
       "4                                                NaN    {{value}}   \n",
       "\n",
       "  is_value_plus  ...  property_type  qts           query_time_stamp  \\\n",
       "0            no  ...          Hotel  NaN  2016-06-21 04:06:50 +0000   \n",
       "1            no  ...          Hotel  NaN  2016-06-21 04:06:50 +0000   \n",
       "2            no  ...          Hotel  NaN  2016-06-21 04:06:50 +0000   \n",
       "3            no  ...          Hotel  NaN  2016-06-21 04:06:50 +0000   \n",
       "4            no  ...          Hotel  NaN  2016-06-21 04:06:50 +0000   \n",
       "\n",
       "  room_types  site_review_count site_review_rating    sitename state  \\\n",
       "0        NaN                 /5                4.5  makemytrip   NaN   \n",
       "1        NaN                 /5                4.5  makemytrip   NaN   \n",
       "2        NaN                 /5                NaN  makemytrip   NaN   \n",
       "3  `standard                 /5                NaN  makemytrip   NaN   \n",
       "4        NaN                 /5                3.7  makemytrip   NaN   \n",
       "\n",
       "   traveller_rating                           uniq_id  \n",
       "0               NaN  78ddf880bd7937d384ff278cc5b39d6e  \n",
       "1               NaN  9f9f9cbb2f7df8089b63d5cdeb257944  \n",
       "2               NaN  b314bb7fa8bfb1ed306f517be21d729e  \n",
       "3               NaN  e6f5bb3c2d76a78d978b9ceb0e31ec56  \n",
       "4               NaN  63072c301427b6ca450d31eea127bcf0  \n",
       "\n",
       "[5 rows x 33 columns]"
      ]
     },
     "execution_count": 3,
     "metadata": {},
     "output_type": "execute_result"
    }
   ],
   "source": [
    "data.head(5)"
   ]
  },
  {
   "cell_type": "code",
   "execution_count": 4,
   "metadata": {},
   "outputs": [
    {
     "data": {
      "text/plain": [
       "city\n",
       "NewDelhiAndNCR    1163\n",
       "Goa               1122\n",
       "Mumbai             543\n",
       "Jaipur             534\n",
       "Bangalore          512\n",
       "                  ... \n",
       "Kollur               1\n",
       "Madla                1\n",
       "Jeypore              1\n",
       "Jispa                1\n",
       "Haldia               1\n",
       "Name: count, Length: 770, dtype: int64"
      ]
     },
     "execution_count": 4,
     "metadata": {},
     "output_type": "execute_result"
    }
   ],
   "source": [
    "data.city.value_counts()"
   ]
  },
  {
   "cell_type": "code",
   "execution_count": 5,
   "metadata": {},
   "outputs": [],
   "source": [
    "array = ['Mumbai']"
   ]
  },
  {
   "cell_type": "code",
   "execution_count": 6,
   "metadata": {},
   "outputs": [],
   "source": [
    "data = data.loc[data['city'].isin(array)]"
   ]
  },
  {
   "cell_type": "code",
   "execution_count": 7,
   "metadata": {},
   "outputs": [
    {
     "data": {
      "text/html": [
       "<div>\n",
       "<style scoped>\n",
       "    .dataframe tbody tr th:only-of-type {\n",
       "        vertical-align: middle;\n",
       "    }\n",
       "\n",
       "    .dataframe tbody tr th {\n",
       "        vertical-align: top;\n",
       "    }\n",
       "\n",
       "    .dataframe thead th {\n",
       "        text-align: right;\n",
       "    }\n",
       "</style>\n",
       "<table border=\"1\" class=\"dataframe\">\n",
       "  <thead>\n",
       "    <tr style=\"text-align: right;\">\n",
       "      <th></th>\n",
       "      <th>area</th>\n",
       "      <th>city</th>\n",
       "      <th>country</th>\n",
       "      <th>crawl_date</th>\n",
       "      <th>highlight_value</th>\n",
       "      <th>hotel_overview</th>\n",
       "      <th>hotel_star_rating</th>\n",
       "      <th>image_urls</th>\n",
       "      <th>in_your_room</th>\n",
       "      <th>is_value_plus</th>\n",
       "      <th>...</th>\n",
       "      <th>property_type</th>\n",
       "      <th>qts</th>\n",
       "      <th>query_time_stamp</th>\n",
       "      <th>room_types</th>\n",
       "      <th>site_review_count</th>\n",
       "      <th>site_review_rating</th>\n",
       "      <th>sitename</th>\n",
       "      <th>state</th>\n",
       "      <th>traveller_rating</th>\n",
       "      <th>uniq_id</th>\n",
       "    </tr>\n",
       "  </thead>\n",
       "  <tbody>\n",
       "    <tr>\n",
       "      <th>294</th>\n",
       "      <td>Charai</td>\n",
       "      <td>Mumbai</td>\n",
       "      <td>India</td>\n",
       "      <td>2016-08-28</td>\n",
       "      <td>Doctor on Call|Front desk|Laundry Service|Park...</td>\n",
       "      <td>Nestled in Mumbai, a city with strong historic...</td>\n",
       "      <td>3</td>\n",
       "      <td>NaN</td>\n",
       "      <td>Bathroom Toiletries|Attached Bathroom|Hot &amp; Co...</td>\n",
       "      <td>no</td>\n",
       "      <td>...</td>\n",
       "      <td>Hotel</td>\n",
       "      <td>2016-08-28 16:13:39 +0000</td>\n",
       "      <td>2016-08-28 16:13:39 +0000</td>\n",
       "      <td>Ac Superior Room|A/c Standard Rooms Double Occ...</td>\n",
       "      <td>NaN</td>\n",
       "      <td>NaN</td>\n",
       "      <td>makemytrip</td>\n",
       "      <td>Maharashtra</td>\n",
       "      <td>NaN</td>\n",
       "      <td>d78fae90ef2e1b5c2dfd547c61763a25</td>\n",
       "    </tr>\n",
       "    <tr>\n",
       "      <th>309</th>\n",
       "      <td>Andheri (East)</td>\n",
       "      <td>Mumbai</td>\n",
       "      <td>India</td>\n",
       "      <td>2016-08-28</td>\n",
       "      <td>Air Conditioned|Airport Transfer|Conference Ha...</td>\n",
       "      <td>3 km from Chhatrapati Shivaji International Ai...</td>\n",
       "      <td>2</td>\n",
       "      <td>NaN</td>\n",
       "      <td>Bathroom Toiletries|Daily Newspaper|Kitchenett...</td>\n",
       "      <td>no</td>\n",
       "      <td>...</td>\n",
       "      <td>Hotel</td>\n",
       "      <td>2016-08-28 16:13:39 +0000</td>\n",
       "      <td>2016-08-28 16:13:39 +0000</td>\n",
       "      <td>Executive|Deluxe</td>\n",
       "      <td>NaN</td>\n",
       "      <td>NaN</td>\n",
       "      <td>makemytrip</td>\n",
       "      <td>Maharasta</td>\n",
       "      <td>Location:3.2/5 | Hospitality:3.1/5 | Facilitie...</td>\n",
       "      <td>030865f741982beb373efddecdc6d6c3</td>\n",
       "    </tr>\n",
       "    <tr>\n",
       "      <th>321</th>\n",
       "      <td>Khar</td>\n",
       "      <td>Mumbai</td>\n",
       "      <td>India</td>\n",
       "      <td>2016-08-28</td>\n",
       "      <td>Airport/Rlwy Stn Transfer|Bar|Conference Hall|...</td>\n",
       "      <td>Location Hotel Royal Garden is situated on Juh...</td>\n",
       "      <td>3</td>\n",
       "      <td>NaN</td>\n",
       "      <td>Electronic Safe|Bathroom Toiletries|Daily News...</td>\n",
       "      <td>no</td>\n",
       "      <td>...</td>\n",
       "      <td>Hotel</td>\n",
       "      <td>2016-08-28 16:13:39 +0000</td>\n",
       "      <td>2016-08-28 16:13:39 +0000</td>\n",
       "      <td>Superior Executive</td>\n",
       "      <td>NaN</td>\n",
       "      <td>NaN</td>\n",
       "      <td>makemytrip</td>\n",
       "      <td>Maharashtra</td>\n",
       "      <td>Location:4.5/5 | Hospitality:3.4/5 | Facilitie...</td>\n",
       "      <td>a1ced509350038775a7700ec67796bc2</td>\n",
       "    </tr>\n",
       "    <tr>\n",
       "      <th>334</th>\n",
       "      <td>Andheri (East)</td>\n",
       "      <td>Mumbai</td>\n",
       "      <td>India</td>\n",
       "      <td>2016-08-28</td>\n",
       "      <td>24 Hour Check in-Icon|24 hour reception|24 hou...</td>\n",
       "      <td>City Guest House is a beautiful property locat...</td>\n",
       "      <td>2</td>\n",
       "      <td>NaN</td>\n",
       "      <td>Bathroom Toiletries|Hot/cold Water|Attached Ba...</td>\n",
       "      <td>no</td>\n",
       "      <td>...</td>\n",
       "      <td>Hotel</td>\n",
       "      <td>2016-08-28 16:13:39 +0000</td>\n",
       "      <td>2016-08-28 16:13:39 +0000</td>\n",
       "      <td>Standard Room|Deluxe Room|Triple Deluxe Room|S...</td>\n",
       "      <td>NaN</td>\n",
       "      <td>NaN</td>\n",
       "      <td>makemytrip</td>\n",
       "      <td>Maharashtra</td>\n",
       "      <td>Location:4.3/5 | Hospitality:3.8/5 | Facilitie...</td>\n",
       "      <td>f2820ae7707668ed6906bb227921f720</td>\n",
       "    </tr>\n",
       "    <tr>\n",
       "      <th>1238</th>\n",
       "      <td>Andheri (East)</td>\n",
       "      <td>Mumbai</td>\n",
       "      <td>NaN</td>\n",
       "      <td>2016-08-22</td>\n",
       "      <td>24 Hour Check in-Icon|24 hour reception|24 hou...</td>\n",
       "      <td>Sai Residency Hotel is situated in the City of...</td>\n",
       "      <td>2</td>\n",
       "      <td>NaN</td>\n",
       "      <td>Bathroom Toiletries|Attached Bathroom|Hot &amp; Co...</td>\n",
       "      <td>no</td>\n",
       "      <td>...</td>\n",
       "      <td>Hotel</td>\n",
       "      <td>2016-08-22 22:10:53 +0000</td>\n",
       "      <td>2016-08-22 22:10:53 +0000</td>\n",
       "      <td>Deluxe Dbl Air Cooled</td>\n",
       "      <td>NaN</td>\n",
       "      <td>NaN</td>\n",
       "      <td>makemytrip</td>\n",
       "      <td>MAHARASHTRA</td>\n",
       "      <td>NaN</td>\n",
       "      <td>b4af24952027ffbcd85a91bb6fe23f5d</td>\n",
       "    </tr>\n",
       "  </tbody>\n",
       "</table>\n",
       "<p>5 rows × 33 columns</p>\n",
       "</div>"
      ],
      "text/plain": [
       "                area    city country  crawl_date  \\\n",
       "294           Charai  Mumbai   India  2016-08-28   \n",
       "309   Andheri (East)  Mumbai   India  2016-08-28   \n",
       "321             Khar  Mumbai   India  2016-08-28   \n",
       "334   Andheri (East)  Mumbai   India  2016-08-28   \n",
       "1238  Andheri (East)  Mumbai     NaN  2016-08-22   \n",
       "\n",
       "                                        highlight_value  \\\n",
       "294   Doctor on Call|Front desk|Laundry Service|Park...   \n",
       "309   Air Conditioned|Airport Transfer|Conference Ha...   \n",
       "321   Airport/Rlwy Stn Transfer|Bar|Conference Hall|...   \n",
       "334   24 Hour Check in-Icon|24 hour reception|24 hou...   \n",
       "1238  24 Hour Check in-Icon|24 hour reception|24 hou...   \n",
       "\n",
       "                                         hotel_overview hotel_star_rating  \\\n",
       "294   Nestled in Mumbai, a city with strong historic...                 3   \n",
       "309   3 km from Chhatrapati Shivaji International Ai...                 2   \n",
       "321   Location Hotel Royal Garden is situated on Juh...                 3   \n",
       "334   City Guest House is a beautiful property locat...                 2   \n",
       "1238  Sai Residency Hotel is situated in the City of...                 2   \n",
       "\n",
       "     image_urls                                       in_your_room  \\\n",
       "294         NaN  Bathroom Toiletries|Attached Bathroom|Hot & Co...   \n",
       "309         NaN  Bathroom Toiletries|Daily Newspaper|Kitchenett...   \n",
       "321         NaN  Electronic Safe|Bathroom Toiletries|Daily News...   \n",
       "334         NaN  Bathroom Toiletries|Hot/cold Water|Attached Ba...   \n",
       "1238        NaN  Bathroom Toiletries|Attached Bathroom|Hot & Co...   \n",
       "\n",
       "     is_value_plus  ...  property_type                        qts  \\\n",
       "294             no  ...          Hotel  2016-08-28 16:13:39 +0000   \n",
       "309             no  ...          Hotel  2016-08-28 16:13:39 +0000   \n",
       "321             no  ...          Hotel  2016-08-28 16:13:39 +0000   \n",
       "334             no  ...          Hotel  2016-08-28 16:13:39 +0000   \n",
       "1238            no  ...          Hotel  2016-08-22 22:10:53 +0000   \n",
       "\n",
       "               query_time_stamp  \\\n",
       "294   2016-08-28 16:13:39 +0000   \n",
       "309   2016-08-28 16:13:39 +0000   \n",
       "321   2016-08-28 16:13:39 +0000   \n",
       "334   2016-08-28 16:13:39 +0000   \n",
       "1238  2016-08-22 22:10:53 +0000   \n",
       "\n",
       "                                             room_types  site_review_count  \\\n",
       "294   Ac Superior Room|A/c Standard Rooms Double Occ...                NaN   \n",
       "309                                    Executive|Deluxe                NaN   \n",
       "321                                  Superior Executive                NaN   \n",
       "334   Standard Room|Deluxe Room|Triple Deluxe Room|S...                NaN   \n",
       "1238                              Deluxe Dbl Air Cooled                NaN   \n",
       "\n",
       "     site_review_rating    sitename        state  \\\n",
       "294                 NaN  makemytrip  Maharashtra   \n",
       "309                 NaN  makemytrip    Maharasta   \n",
       "321                 NaN  makemytrip  Maharashtra   \n",
       "334                 NaN  makemytrip  Maharashtra   \n",
       "1238                NaN  makemytrip  MAHARASHTRA   \n",
       "\n",
       "                                       traveller_rating  \\\n",
       "294                                                 NaN   \n",
       "309   Location:3.2/5 | Hospitality:3.1/5 | Facilitie...   \n",
       "321   Location:4.5/5 | Hospitality:3.4/5 | Facilitie...   \n",
       "334   Location:4.3/5 | Hospitality:3.8/5 | Facilitie...   \n",
       "1238                                                NaN   \n",
       "\n",
       "                               uniq_id  \n",
       "294   d78fae90ef2e1b5c2dfd547c61763a25  \n",
       "309   030865f741982beb373efddecdc6d6c3  \n",
       "321   a1ced509350038775a7700ec67796bc2  \n",
       "334   f2820ae7707668ed6906bb227921f720  \n",
       "1238  b4af24952027ffbcd85a91bb6fe23f5d  \n",
       "\n",
       "[5 rows x 33 columns]"
      ]
     },
     "execution_count": 7,
     "metadata": {},
     "output_type": "execute_result"
    }
   ],
   "source": [
    "data.head(5)"
   ]
  },
  {
   "cell_type": "code",
   "execution_count": 8,
   "metadata": {},
   "outputs": [],
   "source": [
    "data = data.hotel_overview\n",
    "data = data.dropna()"
   ]
  },
  {
   "cell_type": "code",
   "execution_count": 9,
   "metadata": {},
   "outputs": [],
   "source": [
    "stop = set(stopwords.words('english'))\n",
    "def stopwords_removal(data_point):\n",
    "    data = [x for x in data_point.split() if x not in stop]\n",
    "    return data"
   ]
  },
  {
   "cell_type": "code",
   "execution_count": 10,
   "metadata": {},
   "outputs": [],
   "source": [
    "def clean_data(data):\n",
    "    cleaned_data = []\n",
    "    all_unique_words_in_each_description = []\n",
    "    for entry in data:\n",
    "        entry = re.sub(pattern='[^a-zA-Z]',repl=' ',string = entry)\n",
    "        entry = re.sub(r'\\b\\w{0,1}\\b', repl=' ',string = entry)\n",
    "        entry = entry.lower()\n",
    "        entry = stopwords_removal(entry)\n",
    "        cleaned_data.append(entry)\n",
    "        unique = list(set(entry))\n",
    "        all_unique_words_in_each_description.extend(unique)\n",
    "    return cleaned_data, all_unique_words_in_each_description"
   ]
  },
  {
   "cell_type": "code",
   "execution_count": 11,
   "metadata": {},
   "outputs": [],
   "source": [
    "def unique_words(data):\n",
    "    unique_words = set(all_unique_words_in_each_description)\n",
    "    return unique_words, len(unique_words)"
   ]
  },
  {
   "cell_type": "code",
   "execution_count": 12,
   "metadata": {},
   "outputs": [],
   "source": [
    "cleaned_data, all_unique_words_in_each_description = clean_data(data)\n",
    "unique_words, length_of_unique_words = unique_words(all_unique_words_in_each_description)"
   ]
  },
  {
   "cell_type": "code",
   "execution_count": 13,
   "metadata": {},
   "outputs": [
    {
     "data": {
      "text/plain": [
       "['nestled',\n",
       " 'mumbai',\n",
       " 'city',\n",
       " 'strong',\n",
       " 'historical',\n",
       " 'links',\n",
       " 'wonderful',\n",
       " 'british',\n",
       " 'architecture',\n",
       " 'museums',\n",
       " 'beaches',\n",
       " 'places',\n",
       " 'worship',\n",
       " 'true',\n",
       " 'galaxy',\n",
       " 'stars',\n",
       " 'bollywood',\n",
       " 'reigns',\n",
       " 'supreme',\n",
       " 'hotel',\n",
       " 'divya',\n",
       " 'international',\n",
       " 'delightful',\n",
       " 'leisure',\n",
       " 'absolute',\n",
       " 'blend',\n",
       " 'service',\n",
       " 'charm',\n",
       " 'efficiency',\n",
       " 'hotel',\n",
       " 'offers',\n",
       " 'facilities',\n",
       " 'like',\n",
       " 'front',\n",
       " 'desk',\n",
       " 'parking',\n",
       " 'laundry',\n",
       " 'doctor',\n",
       " 'call',\n",
       " 'many',\n",
       " 'aims',\n",
       " 'extend',\n",
       " 'best',\n",
       " 'possible',\n",
       " 'hospitality',\n",
       " 'experience',\n",
       " 'revered',\n",
       " 'customers',\n",
       " 'hotel',\n",
       " 'located',\n",
       " 'distance',\n",
       " 'workshop',\n",
       " 'bus',\n",
       " 'stop',\n",
       " 'km',\n",
       " 'chhatrapati',\n",
       " 'shivaji',\n",
       " 'international',\n",
       " 'airport',\n",
       " 'km',\n",
       " 'chhatrapati',\n",
       " 'shivaji',\n",
       " 'terminus',\n",
       " 'guests',\n",
       " 'head',\n",
       " 'prominent',\n",
       " 'tourist',\n",
       " 'attractions',\n",
       " 'like',\n",
       " 'sanjay',\n",
       " 'gandhi',\n",
       " 'national',\n",
       " 'park',\n",
       " 'kidzania',\n",
       " 'mumbai',\n",
       " 'haji',\n",
       " 'ali',\n",
       " 'mosque',\n",
       " 'iskon',\n",
       " 'temple',\n",
       " 'shree',\n",
       " 'siddhivinayak',\n",
       " 'temple',\n",
       " 'many',\n",
       " 'shoppers',\n",
       " 'fun',\n",
       " 'filled',\n",
       " 'shopping',\n",
       " 'experience',\n",
       " 'shopping',\n",
       " 'viviana',\n",
       " 'mall',\n",
       " 'km',\n",
       " 'food',\n",
       " 'lovers',\n",
       " 'visit',\n",
       " 'nearby',\n",
       " 'restaurants',\n",
       " 'try',\n",
       " 'local',\n",
       " 'delights',\n",
       " 'hotel',\n",
       " 'well',\n",
       " 'appointed',\n",
       " 'rooms',\n",
       " 'appeal',\n",
       " 'piligrims',\n",
       " 'business',\n",
       " 'guests',\n",
       " 'well',\n",
       " 'leisure',\n",
       " 'travelers',\n",
       " 'seeking',\n",
       " 'relaxing',\n",
       " 'trip',\n",
       " 'rooms',\n",
       " 'hotel',\n",
       " 'fully',\n",
       " 'furnished',\n",
       " 'spacious',\n",
       " 'equipped',\n",
       " 'telephone',\n",
       " 'wardrobes',\n",
       " 'comfortable',\n",
       " 'beds',\n",
       " 'neat',\n",
       " 'clean',\n",
       " 'bathrooms',\n",
       " 'essential',\n",
       " 'bathrooms',\n",
       " 'amenities',\n",
       " 'memorable',\n",
       " 'stay',\n",
       " 'hotel',\n",
       " 'divya',\n",
       " 'international']"
      ]
     },
     "execution_count": 13,
     "metadata": {},
     "output_type": "execute_result"
    }
   ],
   "source": [
    "cleaned_data[0]"
   ]
  },
  {
   "cell_type": "code",
   "execution_count": 14,
   "metadata": {},
   "outputs": [
    {
     "data": {
      "text/plain": [
       "3395"
      ]
     },
     "execution_count": 14,
     "metadata": {},
     "output_type": "execute_result"
    }
   ],
   "source": [
    "length_of_unique_words"
   ]
  },
  {
   "cell_type": "code",
   "execution_count": 15,
   "metadata": {},
   "outputs": [],
   "source": [
    "def build_indices(unique_words):\n",
    "    word_to_idx = {}\n",
    "    idx_to_word = {}\n",
    "    for i, word in enumerate(unique_words):\n",
    "        word_to_idx[word] = i\n",
    "        idx_to_word[i] = word\n",
    "    return word_to_idx, idx_to_word"
   ]
  },
  {
   "cell_type": "code",
   "execution_count": 16,
   "metadata": {},
   "outputs": [],
   "source": [
    "word_to_idx, idx_to_word = build_indices(unique_words)"
   ]
  },
  {
   "cell_type": "code",
   "execution_count": 17,
   "metadata": {},
   "outputs": [],
   "source": [
    "def prepare_corpus(corpus, word_to_idx):\n",
    "    \n",
    "    sequences = []\n",
    "    for line in corpus:\n",
    "        tokens = line\n",
    "        for i in range(1, len(tokens)):\n",
    "            i_gram_sequence = tokens[:i+1]\n",
    "            i_gram_sequence_ids = []\n",
    "            \n",
    "            for j, token in enumerate(i_gram_sequence):\n",
    "                i_gram_sequence_ids.append(word_to_idx[token])\n",
    "                \n",
    "            sequences.append(i_gram_sequence_ids)\n",
    "    \n",
    "    return sequences"
   ]
  },
  {
   "cell_type": "code",
   "execution_count": 18,
   "metadata": {},
   "outputs": [],
   "source": [
    "sequences = prepare_corpus(cleaned_data, word_to_idx)\n",
    "max_sequence_len = max([len(x) for x in sequences])"
   ]
  },
  {
   "cell_type": "code",
   "execution_count": 19,
   "metadata": {},
   "outputs": [
    {
     "name": "stdout",
     "output_type": "stream",
     "text": [
      "[877, 1355]\n",
      "[877, 1355, 2409]\n"
     ]
    }
   ],
   "source": [
    "print(sequences[0])\n",
    "print(sequences[1])"
   ]
  },
  {
   "cell_type": "code",
   "execution_count": 20,
   "metadata": {},
   "outputs": [
    {
     "name": "stdout",
     "output_type": "stream",
     "text": [
      "said\n",
      "stupendous\n",
      "works\n"
     ]
    }
   ],
   "source": [
    "print(idx_to_word[1647])\n",
    "print(idx_to_word[867])\n",
    "print(idx_to_word[1452])"
   ]
  },
  {
   "cell_type": "code",
   "execution_count": 21,
   "metadata": {},
   "outputs": [
    {
     "data": {
      "text/plain": [
       "51836"
      ]
     },
     "execution_count": 21,
     "metadata": {},
     "output_type": "execute_result"
    }
   ],
   "source": [
    "len(sequences)"
   ]
  },
  {
   "cell_type": "code",
   "execution_count": 22,
   "metadata": {},
   "outputs": [
    {
     "data": {
      "text/plain": [
       "308"
      ]
     },
     "execution_count": 22,
     "metadata": {},
     "output_type": "execute_result"
    }
   ],
   "source": [
    "max_sequence_len"
   ]
  },
  {
   "cell_type": "code",
   "execution_count": 23,
   "metadata": {},
   "outputs": [],
   "source": [
    "def build_input_data(sequences, max_sequence_len, length_of_unique_words):\n",
    "    sequences = np.array(pad_sequences(sequences, maxlen = max_sequence_len, padding = 'pre'))\n",
    "    X = sequences[:,:-1]\n",
    "    y = sequences[:,-1]\n",
    "    y = to_categorical(y, length_of_unique_words)\n",
    "    return X, y"
   ]
  },
  {
   "cell_type": "code",
   "execution_count": 24,
   "metadata": {},
   "outputs": [
    {
     "data": {
      "text/plain": [
       "3395"
      ]
     },
     "execution_count": 24,
     "metadata": {},
     "output_type": "execute_result"
    }
   ],
   "source": [
    "X, y = build_input_data(sequences, max_sequence_len, length_of_unique_words)\n",
    "length_of_unique_words"
   ]
  },
  {
   "cell_type": "code",
   "execution_count": 25,
   "metadata": {},
   "outputs": [],
   "source": [
    "def create_model(max_sequence_len, length_of_unique_words):\n",
    "    model = Sequential()\n",
    "    model.add(Embedding(length_of_unique_words, 10, input_length=max_sequence_len - 1))\n",
    "    model.add(LSTM(128))\n",
    "    model.add(Dropout(0.2))\n",
    "    model.add(Dense(length_of_unique_words, activation='softmax'))\n",
    "    model.compile(loss='categorical_crossentropy', optimizer='adam')\n",
    "    return model"
   ]
  },
  {
   "cell_type": "code",
   "execution_count": 26,
   "metadata": {},
   "outputs": [
    {
     "name": "stderr",
     "output_type": "stream",
     "text": [
      "C:\\Users\\Leapfrog\\AppData\\Local\\Packages\\PythonSoftwareFoundation.Python.3.9_qbz5n2kfra8p0\\LocalCache\\local-packages\\Python39\\site-packages\\keras\\src\\layers\\core\\embedding.py:90: UserWarning: Argument `input_length` is deprecated. Just remove it.\n",
      "  warnings.warn(\n"
     ]
    }
   ],
   "source": [
    "model = create_model(max_sequence_len, length_of_unique_words)"
   ]
  },
  {
   "cell_type": "code",
   "execution_count": 27,
   "metadata": {},
   "outputs": [
    {
     "data": {
      "text/html": [
       "<pre style=\"white-space:pre;overflow-x:auto;line-height:normal;font-family:Menlo,'DejaVu Sans Mono',consolas,'Courier New',monospace\"><span style=\"font-weight: bold\">Model: \"sequential\"</span>\n",
       "</pre>\n"
      ],
      "text/plain": [
       "\u001b[1mModel: \"sequential\"\u001b[0m\n"
      ]
     },
     "metadata": {},
     "output_type": "display_data"
    },
    {
     "data": {
      "text/html": [
       "<pre style=\"white-space:pre;overflow-x:auto;line-height:normal;font-family:Menlo,'DejaVu Sans Mono',consolas,'Courier New',monospace\">┏━━━━━━━━━━━━━━━━━━━━━━━━━━━━━━━━━━━━━━┳━━━━━━━━━━━━━━━━━━━━━━━━━━━━━┳━━━━━━━━━━━━━━━━━┓\n",
       "┃<span style=\"font-weight: bold\"> Layer (type)                         </span>┃<span style=\"font-weight: bold\"> Output Shape                </span>┃<span style=\"font-weight: bold\">         Param # </span>┃\n",
       "┡━━━━━━━━━━━━━━━━━━━━━━━━━━━━━━━━━━━━━━╇━━━━━━━━━━━━━━━━━━━━━━━━━━━━━╇━━━━━━━━━━━━━━━━━┩\n",
       "│ embedding (<span style=\"color: #0087ff; text-decoration-color: #0087ff\">Embedding</span>)                │ (<span style=\"color: #00d7ff; text-decoration-color: #00d7ff\">None</span>, <span style=\"color: #00af00; text-decoration-color: #00af00\">307</span>, <span style=\"color: #00af00; text-decoration-color: #00af00\">10</span>)             │          <span style=\"color: #00af00; text-decoration-color: #00af00\">33,950</span> │\n",
       "├──────────────────────────────────────┼─────────────────────────────┼─────────────────┤\n",
       "│ lstm (<span style=\"color: #0087ff; text-decoration-color: #0087ff\">LSTM</span>)                          │ (<span style=\"color: #00d7ff; text-decoration-color: #00d7ff\">None</span>, <span style=\"color: #00af00; text-decoration-color: #00af00\">128</span>)                 │          <span style=\"color: #00af00; text-decoration-color: #00af00\">71,168</span> │\n",
       "├──────────────────────────────────────┼─────────────────────────────┼─────────────────┤\n",
       "│ dropout (<span style=\"color: #0087ff; text-decoration-color: #0087ff\">Dropout</span>)                    │ (<span style=\"color: #00d7ff; text-decoration-color: #00d7ff\">None</span>, <span style=\"color: #00af00; text-decoration-color: #00af00\">128</span>)                 │               <span style=\"color: #00af00; text-decoration-color: #00af00\">0</span> │\n",
       "├──────────────────────────────────────┼─────────────────────────────┼─────────────────┤\n",
       "│ dense (<span style=\"color: #0087ff; text-decoration-color: #0087ff\">Dense</span>)                        │ (<span style=\"color: #00d7ff; text-decoration-color: #00d7ff\">None</span>, <span style=\"color: #00af00; text-decoration-color: #00af00\">3395</span>)                │         <span style=\"color: #00af00; text-decoration-color: #00af00\">437,955</span> │\n",
       "└──────────────────────────────────────┴─────────────────────────────┴─────────────────┘\n",
       "</pre>\n"
      ],
      "text/plain": [
       "┏━━━━━━━━━━━━━━━━━━━━━━━━━━━━━━━━━━━━━━┳━━━━━━━━━━━━━━━━━━━━━━━━━━━━━┳━━━━━━━━━━━━━━━━━┓\n",
       "┃\u001b[1m \u001b[0m\u001b[1mLayer (type)                        \u001b[0m\u001b[1m \u001b[0m┃\u001b[1m \u001b[0m\u001b[1mOutput Shape               \u001b[0m\u001b[1m \u001b[0m┃\u001b[1m \u001b[0m\u001b[1m        Param #\u001b[0m\u001b[1m \u001b[0m┃\n",
       "┡━━━━━━━━━━━━━━━━━━━━━━━━━━━━━━━━━━━━━━╇━━━━━━━━━━━━━━━━━━━━━━━━━━━━━╇━━━━━━━━━━━━━━━━━┩\n",
       "│ embedding (\u001b[38;5;33mEmbedding\u001b[0m)                │ (\u001b[38;5;45mNone\u001b[0m, \u001b[38;5;34m307\u001b[0m, \u001b[38;5;34m10\u001b[0m)             │          \u001b[38;5;34m33,950\u001b[0m │\n",
       "├──────────────────────────────────────┼─────────────────────────────┼─────────────────┤\n",
       "│ lstm (\u001b[38;5;33mLSTM\u001b[0m)                          │ (\u001b[38;5;45mNone\u001b[0m, \u001b[38;5;34m128\u001b[0m)                 │          \u001b[38;5;34m71,168\u001b[0m │\n",
       "├──────────────────────────────────────┼─────────────────────────────┼─────────────────┤\n",
       "│ dropout (\u001b[38;5;33mDropout\u001b[0m)                    │ (\u001b[38;5;45mNone\u001b[0m, \u001b[38;5;34m128\u001b[0m)                 │               \u001b[38;5;34m0\u001b[0m │\n",
       "├──────────────────────────────────────┼─────────────────────────────┼─────────────────┤\n",
       "│ dense (\u001b[38;5;33mDense\u001b[0m)                        │ (\u001b[38;5;45mNone\u001b[0m, \u001b[38;5;34m3395\u001b[0m)                │         \u001b[38;5;34m437,955\u001b[0m │\n",
       "└──────────────────────────────────────┴─────────────────────────────┴─────────────────┘\n"
      ]
     },
     "metadata": {},
     "output_type": "display_data"
    },
    {
     "data": {
      "text/html": [
       "<pre style=\"white-space:pre;overflow-x:auto;line-height:normal;font-family:Menlo,'DejaVu Sans Mono',consolas,'Courier New',monospace\"><span style=\"font-weight: bold\"> Total params: </span><span style=\"color: #00af00; text-decoration-color: #00af00\">543,073</span> (2.07 MB)\n",
       "</pre>\n"
      ],
      "text/plain": [
       "\u001b[1m Total params: \u001b[0m\u001b[38;5;34m543,073\u001b[0m (2.07 MB)\n"
      ]
     },
     "metadata": {},
     "output_type": "display_data"
    },
    {
     "data": {
      "text/html": [
       "<pre style=\"white-space:pre;overflow-x:auto;line-height:normal;font-family:Menlo,'DejaVu Sans Mono',consolas,'Courier New',monospace\"><span style=\"font-weight: bold\"> Trainable params: </span><span style=\"color: #00af00; text-decoration-color: #00af00\">543,073</span> (2.07 MB)\n",
       "</pre>\n"
      ],
      "text/plain": [
       "\u001b[1m Trainable params: \u001b[0m\u001b[38;5;34m543,073\u001b[0m (2.07 MB)\n"
      ]
     },
     "metadata": {},
     "output_type": "display_data"
    },
    {
     "data": {
      "text/html": [
       "<pre style=\"white-space:pre;overflow-x:auto;line-height:normal;font-family:Menlo,'DejaVu Sans Mono',consolas,'Courier New',monospace\"><span style=\"font-weight: bold\"> Non-trainable params: </span><span style=\"color: #00af00; text-decoration-color: #00af00\">0</span> (0.00 B)\n",
       "</pre>\n"
      ],
      "text/plain": [
       "\u001b[1m Non-trainable params: \u001b[0m\u001b[38;5;34m0\u001b[0m (0.00 B)\n"
      ]
     },
     "metadata": {},
     "output_type": "display_data"
    }
   ],
   "source": [
    "# Explicitly build the model by specifying the input shape\n",
    "model.build(input_shape=(None, max_sequence_len - 1))\n",
    "\n",
    "# Now, try printing the summary again\n",
    "model.summary()"
   ]
  },
  {
   "cell_type": "code",
   "execution_count": 28,
   "metadata": {},
   "outputs": [
    {
     "data": {
      "text/plain": [
       "51836"
      ]
     },
     "execution_count": 28,
     "metadata": {},
     "output_type": "execute_result"
    }
   ],
   "source": [
    "len(X)"
   ]
  },
  {
   "cell_type": "code",
   "execution_count": 29,
   "metadata": {},
   "outputs": [
    {
     "name": "stdout",
     "output_type": "stream",
     "text": [
      "Epoch 1/30\n",
      "\u001b[1m102/102\u001b[0m \u001b[32m━━━━━━━━━━━━━━━━━━━━\u001b[0m\u001b[37m\u001b[0m \u001b[1m83s\u001b[0m 776ms/step - loss: 7.3536\n",
      "Epoch 2/30\n",
      "\u001b[1m102/102\u001b[0m \u001b[32m━━━━━━━━━━━━━━━━━━━━\u001b[0m\u001b[37m\u001b[0m \u001b[1m82s\u001b[0m 801ms/step - loss: 6.5620\n",
      "Epoch 3/30\n",
      "\u001b[1m102/102\u001b[0m \u001b[32m━━━━━━━━━━━━━━━━━━━━\u001b[0m\u001b[37m\u001b[0m \u001b[1m83s\u001b[0m 817ms/step - loss: 6.4826\n",
      "Epoch 4/30\n",
      "\u001b[1m102/102\u001b[0m \u001b[32m━━━━━━━━━━━━━━━━━━━━\u001b[0m\u001b[37m\u001b[0m \u001b[1m89s\u001b[0m 871ms/step - loss: 6.4270\n",
      "Epoch 5/30\n",
      "\u001b[1m102/102\u001b[0m \u001b[32m━━━━━━━━━━━━━━━━━━━━\u001b[0m\u001b[37m\u001b[0m \u001b[1m88s\u001b[0m 867ms/step - loss: 6.3411\n",
      "Epoch 6/30\n",
      "\u001b[1m102/102\u001b[0m \u001b[32m━━━━━━━━━━━━━━━━━━━━\u001b[0m\u001b[37m\u001b[0m \u001b[1m92s\u001b[0m 903ms/step - loss: 6.2617\n",
      "Epoch 7/30\n",
      "\u001b[1m102/102\u001b[0m \u001b[32m━━━━━━━━━━━━━━━━━━━━\u001b[0m\u001b[37m\u001b[0m \u001b[1m93s\u001b[0m 908ms/step - loss: 6.1823\n",
      "Epoch 8/30\n",
      "\u001b[1m102/102\u001b[0m \u001b[32m━━━━━━━━━━━━━━━━━━━━\u001b[0m\u001b[37m\u001b[0m \u001b[1m91s\u001b[0m 894ms/step - loss: 6.0763\n",
      "Epoch 9/30\n",
      "\u001b[1m102/102\u001b[0m \u001b[32m━━━━━━━━━━━━━━━━━━━━\u001b[0m\u001b[37m\u001b[0m \u001b[1m94s\u001b[0m 924ms/step - loss: 5.9700\n",
      "Epoch 10/30\n",
      "\u001b[1m102/102\u001b[0m \u001b[32m━━━━━━━━━━━━━━━━━━━━\u001b[0m\u001b[37m\u001b[0m \u001b[1m102s\u001b[0m 998ms/step - loss: 5.8808\n",
      "Epoch 11/30\n",
      "\u001b[1m102/102\u001b[0m \u001b[32m━━━━━━━━━━━━━━━━━━━━\u001b[0m\u001b[37m\u001b[0m \u001b[1m107s\u001b[0m 1s/step - loss: 5.7959\n",
      "Epoch 12/30\n",
      "\u001b[1m102/102\u001b[0m \u001b[32m━━━━━━━━━━━━━━━━━━━━\u001b[0m\u001b[37m\u001b[0m \u001b[1m99s\u001b[0m 965ms/step - loss: 5.6938\n",
      "Epoch 13/30\n",
      "\u001b[1m102/102\u001b[0m \u001b[32m━━━━━━━━━━━━━━━━━━━━\u001b[0m\u001b[37m\u001b[0m \u001b[1m144s\u001b[0m 980ms/step - loss: 5.6092\n",
      "Epoch 14/30\n",
      "\u001b[1m102/102\u001b[0m \u001b[32m━━━━━━━━━━━━━━━━━━━━\u001b[0m\u001b[37m\u001b[0m \u001b[1m96s\u001b[0m 943ms/step - loss: 5.5272\n",
      "Epoch 15/30\n",
      "\u001b[1m102/102\u001b[0m \u001b[32m━━━━━━━━━━━━━━━━━━━━\u001b[0m\u001b[37m\u001b[0m \u001b[1m98s\u001b[0m 961ms/step - loss: 5.4276\n",
      "Epoch 16/30\n",
      "\u001b[1m102/102\u001b[0m \u001b[32m━━━━━━━━━━━━━━━━━━━━\u001b[0m\u001b[37m\u001b[0m \u001b[1m107s\u001b[0m 1s/step - loss: 5.3578\n",
      "Epoch 17/30\n",
      "\u001b[1m102/102\u001b[0m \u001b[32m━━━━━━━━━━━━━━━━━━━━\u001b[0m\u001b[37m\u001b[0m \u001b[1m110s\u001b[0m 1s/step - loss: 5.2608\n",
      "Epoch 18/30\n",
      "\u001b[1m102/102\u001b[0m \u001b[32m━━━━━━━━━━━━━━━━━━━━\u001b[0m\u001b[37m\u001b[0m \u001b[1m116s\u001b[0m 1s/step - loss: 5.1681\n",
      "Epoch 19/30\n",
      "\u001b[1m102/102\u001b[0m \u001b[32m━━━━━━━━━━━━━━━━━━━━\u001b[0m\u001b[37m\u001b[0m \u001b[1m96s\u001b[0m 935ms/step - loss: 5.0874\n",
      "Epoch 20/30\n",
      "\u001b[1m102/102\u001b[0m \u001b[32m━━━━━━━━━━━━━━━━━━━━\u001b[0m\u001b[37m\u001b[0m \u001b[1m102s\u001b[0m 1s/step - loss: 5.0109\n",
      "Epoch 21/30\n",
      "\u001b[1m102/102\u001b[0m \u001b[32m━━━━━━━━━━━━━━━━━━━━\u001b[0m\u001b[37m\u001b[0m \u001b[1m109s\u001b[0m 1s/step - loss: 4.9282\n",
      "Epoch 22/30\n",
      "\u001b[1m102/102\u001b[0m \u001b[32m━━━━━━━━━━━━━━━━━━━━\u001b[0m\u001b[37m\u001b[0m \u001b[1m79s\u001b[0m 766ms/step - loss: 4.8484\n",
      "Epoch 23/30\n",
      "\u001b[1m102/102\u001b[0m \u001b[32m━━━━━━━━━━━━━━━━━━━━\u001b[0m\u001b[37m\u001b[0m \u001b[1m86s\u001b[0m 844ms/step - loss: 4.7626\n",
      "Epoch 24/30\n",
      "\u001b[1m102/102\u001b[0m \u001b[32m━━━━━━━━━━━━━━━━━━━━\u001b[0m\u001b[37m\u001b[0m \u001b[1m91s\u001b[0m 891ms/step - loss: 4.6910\n",
      "Epoch 25/30\n",
      "\u001b[1m102/102\u001b[0m \u001b[32m━━━━━━━━━━━━━━━━━━━━\u001b[0m\u001b[37m\u001b[0m \u001b[1m96s\u001b[0m 945ms/step - loss: 4.6071\n",
      "Epoch 26/30\n",
      "\u001b[1m102/102\u001b[0m \u001b[32m━━━━━━━━━━━━━━━━━━━━\u001b[0m\u001b[37m\u001b[0m \u001b[1m93s\u001b[0m 906ms/step - loss: 4.5478\n",
      "Epoch 27/30\n",
      "\u001b[1m102/102\u001b[0m \u001b[32m━━━━━━━━━━━━━━━━━━━━\u001b[0m\u001b[37m\u001b[0m \u001b[1m97s\u001b[0m 951ms/step - loss: 4.4535\n",
      "Epoch 28/30\n",
      "\u001b[1m102/102\u001b[0m \u001b[32m━━━━━━━━━━━━━━━━━━━━\u001b[0m\u001b[37m\u001b[0m \u001b[1m101s\u001b[0m 993ms/step - loss: 4.4016\n",
      "Epoch 29/30\n",
      "\u001b[1m102/102\u001b[0m \u001b[32m━━━━━━━━━━━━━━━━━━━━\u001b[0m\u001b[37m\u001b[0m \u001b[1m108s\u001b[0m 1s/step - loss: 4.3225\n",
      "Epoch 30/30\n",
      "\u001b[1m102/102\u001b[0m \u001b[32m━━━━━━━━━━━━━━━━━━━━\u001b[0m\u001b[37m\u001b[0m \u001b[1m112s\u001b[0m 1s/step - loss: 4.2784\n"
     ]
    },
    {
     "data": {
      "text/plain": [
       "<keras.src.callbacks.history.History at 0x21c47b72b50>"
      ]
     },
     "execution_count": 29,
     "metadata": {},
     "output_type": "execute_result"
    }
   ],
   "source": [
    "model.fit(X, y, batch_size = 512, epochs=30)"
   ]
  },
  {
   "cell_type": "code",
   "execution_count": 35,
   "metadata": {},
   "outputs": [],
   "source": [
    "import numpy as np\n",
    "from tensorflow.keras.preprocessing.sequence import pad_sequences\n",
    "\n",
    "def generate_text(seed_text, next_words, model, max_seq_len, word_to_idx, idx_to_word):\n",
    "    for _ in range(next_words):\n",
    "        # Assuming clean_data and prepare_corpus functions are defined elsewhere\n",
    "        cleaned_data = clean_data([seed_text])\n",
    "        sequences = prepare_corpus(cleaned_data[0], word_to_idx)\n",
    "        \n",
    "        # Pad the sequence\n",
    "        sequences = pad_sequences([sequences[-1]], maxlen=max_seq_len - 1, padding='pre')\n",
    "        \n",
    "        # Predict the next word index\n",
    "        predicted_probs = model.predict(sequences, verbose=0)\n",
    "        predicted_index = np.argmax(predicted_probs, axis=1)[0]\n",
    "        \n",
    "        # Map the predicted index to the corresponding word\n",
    "        output_word = idx_to_word.get(predicted_index, '')\n",
    "        \n",
    "        # Append the predicted word to the seed text\n",
    "        seed_text += \" \" + output_word\n",
    "        \n",
    "    return seed_text.title()\n"
   ]
  },
  {
   "cell_type": "code",
   "execution_count": 36,
   "metadata": {},
   "outputs": [
    {
     "name": "stdout",
     "output_type": "stream",
     "text": [
      "In Mumbai There We Need Hotel Located Distance Km Chhatrapati Shivaji International Airport Km Chhatrapati Shivaji International Airport Km Chhatrapati Shivaji International Airport Km Chhatrapati Shivaji International Airport Km Chhatrapati Shivaji International Airport Km Chhatrapati\n"
     ]
    }
   ],
   "source": [
    "print(generate_text(\"in Mumbai there we need\", 30, model, max_sequence_len,word_to_idx, idx_to_word ))"
   ]
  },
  {
   "cell_type": "code",
   "execution_count": 32,
   "metadata": {},
   "outputs": [
    {
     "name": "stdout",
     "output_type": "stream",
     "text": [
      "Best Hotel Mumbai Located Distance Km Chhatrapati Shivaji International Airport Km Chhatrapati Shivaji International Airport Km Chhatrapati Shivaji International Airport Km Chhatrapati Shivaji International Airport Km Chhatrapati Shivaji International Airport Km Chhatrapati Shivaji\n"
     ]
    }
   ],
   "source": [
    "print(generate_text(\"Best Hotel Mumbai\", 30, model, max_sequence_len,word_to_idx, idx_to_word ))"
   ]
  },
  {
   "cell_type": "code",
   "execution_count": 33,
   "metadata": {},
   "outputs": [
    {
     "name": "stdout",
     "output_type": "stream",
     "text": [
      "The Beauty Of The City Located Km Chhatrapati Shivaji International Airport Km Chhatrapati Shivaji International Airport Km Chhatrapati Shivaji International Airport Km Chhatrapati Shivaji International Airport Km Chhatrapati Shivaji International Airport Km Chhatrapati Shivaji International\n"
     ]
    }
   ],
   "source": [
    "print(generate_text(\"The beauty of the city\", 30, model, max_sequence_len,word_to_idx, idx_to_word ))"
   ]
  },
  {
   "cell_type": "code",
   "execution_count": 37,
   "metadata": {},
   "outputs": [],
   "source": [
    "model_structure = model.to_json()\n",
    "with open(\"Output Files/text_generation_using_LSTM_10ephoc.json\", \"w\") as json_file:\n",
    "    json_file.write(model_structure)\n",
    "model.save_weights(\"Output Files/text_generation_using_LSTM_10ephoc.weights.h5\")"
   ]
  },
  {
   "cell_type": "markdown",
   "metadata": {},
   "source": [
    "### Summary\n",
    "## Libraries Used\n",
    "\n",
    "1. nltk: Natural Language Toolkit, used for text processing.\n",
    "2. stopwords: To remove common stopwords from text data.\n",
    "3. pandas: Used for data manipulation and analysis.\n",
    "4. numpy: Used for numerical operations.\n",
    "5. re: Regular expression operations for text cleaning.\n",
    "6. keras:\n",
    "Sequential: For creating a sequential neural network model.\n",
    "Embedding: For converting words into dense vectors of fixed size.\n",
    "LSTM: Long Short-Term Memory layer for handling sequential data.\n",
    "Dropout: To prevent overfitting by randomly dropping neurons during training.\n",
    "Dense: A fully connected layer.\n",
    "7. tensorflow.keras.utils:\n",
    "to_categorical: Converts a class vector (integers) to binary class matrix.\n",
    "\n",
    "### Procedure Followed\n",
    "1. Import Libraries:\n",
    "The required libraries and modules were imported.\n",
    "2. Load Data:\n",
    "A dataset containing hotel reviews was loaded from a CSV file using pandas.\n",
    "3. Initial Data Inspection:\n",
    "The first few rows of the dataset were displayed to understand its structure.\n",
    "The frequency of different cities in the dataset was analyzed.\n",
    "4. Data Filtering:\n",
    "The dataset was filtered to include only reviews from Mumbai.\n",
    "5. Data Cleaning:\n",
    "Missing values were dropped from the hotel_overview column.\n",
    "A function was defined to remove stopwords from the text.\n",
    "Another function was defined to clean the text by:\n",
    "Removing non-alphabetic characters.\n",
    "Converting text to lowercase.\n",
    "Removing single-character words.\n",
    "Removing stopwords.\n",
    "The text data was cleaned using these functions, and unique words were extracted.\n",
    "6. Building Word Indices:\n",
    "Functions were defined to create mappings between words and their corresponding indices (and vice versa).\n",
    "7. Preparing Sequences:\n",
    "The cleaned text data was split into sequences of words.\n",
    "Sequences were padded to ensure uniform length.\n",
    "8. Prepare Input and Output Data:\n",
    "The sequences were split into input (X) and output (y) components.\n",
    "The output data (y) was converted to categorical format.\n",
    "9. Model Creation:\n",
    "A sequential model was defined with the following layers:\n",
    "Embedding Layer: To convert input sequences to dense vectors.\n",
    "LSTM Layer: To handle the sequential nature of the data.\n",
    "Dropout Layer: To reduce overfitting.\n",
    "Dense Layer: To output predictions with softmax activation.\n",
    "The model was compiled with categorical_crossentropy loss and adam optimizer.\n",
    "10. Model Summary:\n",
    "The summary of the model was printed to verify its architecture.\n",
    "11. Model Training:\n",
    "The model was trained using the input data (X) and labels (y) for 100 epochs with a batch size of 512.\n",
    "12. Text Generation:\n",
    "A function was defined to generate text based on a seed input.\n",
    "The function uses the trained model to predict the next word in the sequence iteratively.\n",
    "Several examples of text generation were performed using different seed texts.\n"
   ]
  },
  {
   "cell_type": "code",
   "execution_count": null,
   "metadata": {},
   "outputs": [],
   "source": []
  }
 ],
 "metadata": {
  "kernelspec": {
   "display_name": "Python 3 (ipykernel)",
   "language": "python",
   "name": "python3"
  },
  "language_info": {
   "codemirror_mode": {
    "name": "ipython",
    "version": 3
   },
   "file_extension": ".py",
   "mimetype": "text/x-python",
   "name": "python",
   "nbconvert_exporter": "python",
   "pygments_lexer": "ipython3",
   "version": "3.9.13"
  }
 },
 "nbformat": 4,
 "nbformat_minor": 4
}
