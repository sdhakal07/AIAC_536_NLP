{
 "cells": [
  {
   "cell_type": "code",
   "execution_count": 1,
   "metadata": {},
   "outputs": [],
   "source": [
    "import warnings"
   ]
  },
  {
   "cell_type": "code",
   "execution_count": 7,
   "metadata": {
    "colab": {
     "base_uri": "https://localhost:8080/",
     "height": 229
    },
    "colab_type": "code",
    "id": "bkVrfzQjZQM4",
    "outputId": "238ca024-d33f-4044-bff4-e1819ed4cc2d"
   },
   "outputs": [
    {
     "data": {
      "text/html": [
       "<div>\n",
       "<style scoped>\n",
       "    .dataframe tbody tr th:only-of-type {\n",
       "        vertical-align: middle;\n",
       "    }\n",
       "\n",
       "    .dataframe tbody tr th {\n",
       "        vertical-align: top;\n",
       "    }\n",
       "\n",
       "    .dataframe thead th {\n",
       "        text-align: right;\n",
       "    }\n",
       "</style>\n",
       "<table border=\"1\" class=\"dataframe\">\n",
       "  <thead>\n",
       "    <tr style=\"text-align: right;\">\n",
       "      <th></th>\n",
       "      <th>total_bill</th>\n",
       "      <th>tip</th>\n",
       "      <th>sex</th>\n",
       "      <th>smoker</th>\n",
       "      <th>day</th>\n",
       "      <th>time</th>\n",
       "      <th>size</th>\n",
       "    </tr>\n",
       "  </thead>\n",
       "  <tbody>\n",
       "    <tr>\n",
       "      <th>0</th>\n",
       "      <td>16.99</td>\n",
       "      <td>1.01</td>\n",
       "      <td>Female</td>\n",
       "      <td>No</td>\n",
       "      <td>Sun</td>\n",
       "      <td>Dinner</td>\n",
       "      <td>2</td>\n",
       "    </tr>\n",
       "    <tr>\n",
       "      <th>1</th>\n",
       "      <td>10.34</td>\n",
       "      <td>1.66</td>\n",
       "      <td>Male</td>\n",
       "      <td>No</td>\n",
       "      <td>Sun</td>\n",
       "      <td>Dinner</td>\n",
       "      <td>3</td>\n",
       "    </tr>\n",
       "    <tr>\n",
       "      <th>2</th>\n",
       "      <td>21.01</td>\n",
       "      <td>3.50</td>\n",
       "      <td>Male</td>\n",
       "      <td>No</td>\n",
       "      <td>Sun</td>\n",
       "      <td>Dinner</td>\n",
       "      <td>3</td>\n",
       "    </tr>\n",
       "    <tr>\n",
       "      <th>3</th>\n",
       "      <td>23.68</td>\n",
       "      <td>3.31</td>\n",
       "      <td>Male</td>\n",
       "      <td>No</td>\n",
       "      <td>Sun</td>\n",
       "      <td>Dinner</td>\n",
       "      <td>2</td>\n",
       "    </tr>\n",
       "    <tr>\n",
       "      <th>4</th>\n",
       "      <td>24.59</td>\n",
       "      <td>3.61</td>\n",
       "      <td>Female</td>\n",
       "      <td>No</td>\n",
       "      <td>Sun</td>\n",
       "      <td>Dinner</td>\n",
       "      <td>4</td>\n",
       "    </tr>\n",
       "  </tbody>\n",
       "</table>\n",
       "</div>"
      ],
      "text/plain": [
       "   total_bill   tip     sex smoker  day    time  size\n",
       "0       16.99  1.01  Female     No  Sun  Dinner     2\n",
       "1       10.34  1.66    Male     No  Sun  Dinner     3\n",
       "2       21.01  3.50    Male     No  Sun  Dinner     3\n",
       "3       23.68  3.31    Male     No  Sun  Dinner     2\n",
       "4       24.59  3.61  Female     No  Sun  Dinner     4"
      ]
     },
     "execution_count": 7,
     "metadata": {},
     "output_type": "execute_result"
    }
   ],
   "source": [
    "#!pip install seaborn\n",
    "import seaborn as sns\n",
    "\n",
    "tips_df = sns.load_dataset('tips')\n",
    "tips_df.head()"
   ]
  },
  {
   "cell_type": "code",
   "execution_count": 3,
   "metadata": {
    "colab": {
     "base_uri": "https://localhost:8080/",
     "height": 230
    },
    "colab_type": "code",
    "id": "HCd7xfMzZQM8",
    "outputId": "35a70c76-9ab6-4d64-d0b3-238baad1b58f"
   },
   "outputs": [
    {
     "data": {
      "text/plain": [
       "0      False\n",
       "1      False\n",
       "2      False\n",
       "3      False\n",
       "4      False\n",
       "       ...  \n",
       "239    False\n",
       "240    False\n",
       "241    False\n",
       "242    False\n",
       "243    False\n",
       "Length: 244, dtype: bool"
      ]
     },
     "execution_count": 3,
     "metadata": {},
     "output_type": "execute_result"
    }
   ],
   "source": [
    "tips_df.isnull().values.any() #Check if NaN value in the dataset\n",
    "tips_df.isnull().any() #Check if NaN value in the columns\n",
    "tips_df.isnull().any(axis=1) #Check if NaN value in the rows"
   ]
  },
  {
   "cell_type": "code",
   "execution_count": 10,
   "metadata": {},
   "outputs": [
    {
     "data": {
      "text/html": [
       "<div>\n",
       "<style scoped>\n",
       "    .dataframe tbody tr th:only-of-type {\n",
       "        vertical-align: middle;\n",
       "    }\n",
       "\n",
       "    .dataframe tbody tr th {\n",
       "        vertical-align: top;\n",
       "    }\n",
       "\n",
       "    .dataframe thead th {\n",
       "        text-align: right;\n",
       "    }\n",
       "</style>\n",
       "<table border=\"1\" class=\"dataframe\">\n",
       "  <thead>\n",
       "    <tr style=\"text-align: right;\">\n",
       "      <th></th>\n",
       "      <th>total_bill</th>\n",
       "      <th>tip</th>\n",
       "      <th>sex</th>\n",
       "      <th>smoker</th>\n",
       "      <th>day</th>\n",
       "      <th>time</th>\n",
       "      <th>size</th>\n",
       "    </tr>\n",
       "  </thead>\n",
       "  <tbody>\n",
       "    <tr>\n",
       "      <th>0</th>\n",
       "      <td>16.99</td>\n",
       "      <td>1.01</td>\n",
       "      <td>0</td>\n",
       "      <td>0</td>\n",
       "      <td>2</td>\n",
       "      <td>0</td>\n",
       "      <td>2</td>\n",
       "    </tr>\n",
       "    <tr>\n",
       "      <th>1</th>\n",
       "      <td>10.34</td>\n",
       "      <td>1.66</td>\n",
       "      <td>1</td>\n",
       "      <td>0</td>\n",
       "      <td>2</td>\n",
       "      <td>0</td>\n",
       "      <td>3</td>\n",
       "    </tr>\n",
       "    <tr>\n",
       "      <th>2</th>\n",
       "      <td>21.01</td>\n",
       "      <td>3.50</td>\n",
       "      <td>1</td>\n",
       "      <td>0</td>\n",
       "      <td>2</td>\n",
       "      <td>0</td>\n",
       "      <td>3</td>\n",
       "    </tr>\n",
       "    <tr>\n",
       "      <th>3</th>\n",
       "      <td>23.68</td>\n",
       "      <td>3.31</td>\n",
       "      <td>1</td>\n",
       "      <td>0</td>\n",
       "      <td>2</td>\n",
       "      <td>0</td>\n",
       "      <td>2</td>\n",
       "    </tr>\n",
       "    <tr>\n",
       "      <th>4</th>\n",
       "      <td>24.59</td>\n",
       "      <td>3.61</td>\n",
       "      <td>0</td>\n",
       "      <td>0</td>\n",
       "      <td>2</td>\n",
       "      <td>0</td>\n",
       "      <td>4</td>\n",
       "    </tr>\n",
       "  </tbody>\n",
       "</table>\n",
       "</div>"
      ],
      "text/plain": [
       "   total_bill   tip  sex  smoker  day  time  size\n",
       "0       16.99  1.01    0       0    2     0     2\n",
       "1       10.34  1.66    1       0    2     0     3\n",
       "2       21.01  3.50    1       0    2     0     3\n",
       "3       23.68  3.31    1       0    2     0     2\n",
       "4       24.59  3.61    0       0    2     0     4"
      ]
     },
     "execution_count": 10,
     "metadata": {},
     "output_type": "execute_result"
    }
   ],
   "source": [
    "import pandas as pd\n",
    "\n",
    "#Label encoding\n",
    "from sklearn.preprocessing import LabelEncoder\n",
    "label_encoding = LabelEncoder()\n",
    "tips_df.iloc[:,[2,3,4,5]] = tips_df.iloc[:,[2,3,4,5]].apply(label_encoding.fit_transform)\n",
    "tips_df.head()"
   ]
  },
  {
   "cell_type": "code",
   "execution_count": 11,
   "metadata": {
    "colab": {
     "base_uri": "https://localhost:8080/",
     "height": 35
    },
    "colab_type": "code",
    "id": "5N3tXwFfZQNB",
    "outputId": "6800be7b-1ac9-42cd-8b97-e4163ee2b813"
   },
   "outputs": [
    {
     "data": {
      "text/plain": [
       "{0: 0, 1: 1, 2: 2, 3: 3}"
      ]
     },
     "execution_count": 11,
     "metadata": {},
     "output_type": "execute_result"
    }
   ],
   "source": [
    "#visualizing the encodings in label encoding\n",
    "label_encoding = LabelEncoder()\n",
    "col_fit = label_encoding.fit(tips_df[\"day\"])\n",
    "dict(zip(col_fit.classes_, col_fit.transform(col_fit.classes_)))"
   ]
  },
  {
   "cell_type": "code",
   "execution_count": 12,
   "metadata": {
    "colab": {
     "base_uri": "https://localhost:8080/",
     "height": 141
    },
    "colab_type": "code",
    "id": "qenoI3z4ZQNG",
    "outputId": "a3590200-04aa-43f9-d3db-5933125775d2"
   },
   "outputs": [
    {
     "data": {
      "text/plain": [
       "array([[ 1.  ,  0.  ,  1.  , ..., 16.99,  1.01,  2.  ],\n",
       "       [ 0.  ,  1.  ,  1.  , ..., 10.34,  1.66,  3.  ],\n",
       "       [ 0.  ,  1.  ,  1.  , ..., 21.01,  3.5 ,  3.  ],\n",
       "       ...,\n",
       "       [ 0.  ,  1.  ,  0.  , ..., 22.67,  2.  ,  2.  ],\n",
       "       [ 0.  ,  1.  ,  1.  , ..., 17.82,  1.75,  2.  ],\n",
       "       [ 1.  ,  0.  ,  1.  , ..., 18.78,  3.  ,  2.  ]])"
      ]
     },
     "execution_count": 12,
     "metadata": {},
     "output_type": "execute_result"
    }
   ],
   "source": [
    "#One Hot encoding\n",
    "from sklearn.preprocessing import OneHotEncoder\n",
    "from sklearn.compose import ColumnTransformer\n",
    "oh_encoding = ColumnTransformer([('OneHotEncoding', OneHotEncoder(),  [2,3,4,5])],remainder='passthrough')\n",
    "tips_df_ohe = oh_encoding.fit_transform(tips_df)\n",
    "tips_df_ohe"
   ]
  },
  {
   "cell_type": "code",
   "execution_count": 13,
   "metadata": {
    "colab": {
     "base_uri": "https://localhost:8080/",
     "height": 248
    },
    "colab_type": "code",
    "id": "Wo34nIqiZQNJ",
    "outputId": "e025ce0b-e339-45a8-a079-4e0310d0c873"
   },
   "outputs": [
    {
     "data": {
      "text/plain": [
       "array([[ 1.34335316e+00, -1.34335316e+00,  7.84789169e-01, ...,\n",
       "        -3.14711305e-01, -1.43994695e+00, -6.00192629e-01],\n",
       "       [-7.44405889e-01,  7.44405889e-01,  7.84789169e-01, ...,\n",
       "        -1.06323531e+00, -9.69205340e-01,  4.53382921e-01],\n",
       "       [-7.44405889e-01,  7.44405889e-01,  7.84789169e-01, ...,\n",
       "         1.37779900e-01,  3.63355539e-01,  4.53382921e-01],\n",
       "       ...,\n",
       "       [-7.44405889e-01,  7.44405889e-01, -1.27422758e+00, ...,\n",
       "         3.24629502e-01, -7.22971264e-01, -6.00192629e-01],\n",
       "       [-7.44405889e-01,  7.44405889e-01,  7.84789169e-01, ...,\n",
       "        -2.21286504e-01, -9.04025732e-01, -6.00192629e-01],\n",
       "       [ 1.34335316e+00, -1.34335316e+00,  7.84789169e-01, ...,\n",
       "        -1.13228903e-01,  1.24660453e-03, -6.00192629e-01]])"
      ]
     },
     "execution_count": 13,
     "metadata": {},
     "output_type": "execute_result"
    }
   ],
   "source": [
    "#Standardization\n",
    "from sklearn.preprocessing import StandardScaler\n",
    "zs = StandardScaler()\n",
    "tips_df_std = zs.fit_transform(tips_df_ohe)\n",
    "tips_df_std"
   ]
  },
  {
   "cell_type": "code",
   "execution_count": 14,
   "metadata": {
    "colab": {
     "base_uri": "https://localhost:8080/",
     "height": 248
    },
    "colab_type": "code",
    "id": "7oKcjpc-ZQNM",
    "outputId": "eab38064-5a25-4915-b2e9-a2ce4e47dd72"
   },
   "outputs": [
    {
     "data": {
      "text/plain": [
       "array([[1.        , 0.        , 1.        , ..., 0.29157939, 0.00111111,\n",
       "        0.2       ],\n",
       "       [0.        , 1.        , 1.        , ..., 0.1522832 , 0.07333333,\n",
       "        0.4       ],\n",
       "       [0.        , 1.        , 1.        , ..., 0.3757855 , 0.27777778,\n",
       "        0.4       ],\n",
       "       ...,\n",
       "       [0.        , 1.        , 0.        , ..., 0.41055718, 0.11111111,\n",
       "        0.2       ],\n",
       "       [0.        , 1.        , 1.        , ..., 0.30896523, 0.08333333,\n",
       "        0.2       ],\n",
       "       [1.        , 0.        , 1.        , ..., 0.32907415, 0.22222222,\n",
       "        0.2       ]])"
      ]
     },
     "execution_count": 14,
     "metadata": {},
     "output_type": "execute_result"
    }
   ],
   "source": [
    "from sklearn.preprocessing import MinMaxScaler\n",
    "minmax = MinMaxScaler()\n",
    "tips_df_std = minmax.fit_transform(tips_df_ohe)\n",
    "tips_df_std"
   ]
  },
  {
   "cell_type": "markdown",
   "metadata": {},
   "source": [
    "### Summary\n",
    "1. Seaborn as sns: Used to load the tips dataset.\n",
    "2. Sklearn.preprocessing: Includes tools like LabelEncoder, OneHotEncoder, StandardScaler, and MinMaxScaler for data preprocessing.\n",
    "3. sns.load_dataset('tips'): Loads the tips dataset into a DataFrame.\n",
    "4. DataFrame.isnull(): Checks if there are any missing values in the dataset, across columns and rows.\n",
    "5. LabelEncoder: Converts categorical variables (sex, smoker, day, time) into numerical labels.\n",
    "6. OneHotEncoder with ColumnTransformer: Transforms categorical variables into binary columns, representing each category.\n",
    "7. StandardScaler: Scales the dataset so that each feature has a mean of 0 and a standard deviation of 1.\n",
    "8. MinMaxScaler: Scales features to a specified range, typically between 0 and 1."
   ]
  }
 ],
 "metadata": {
  "colab": {
   "name": "Data Preprocessing.ipynb",
   "provenance": []
  },
  "kernelspec": {
   "display_name": "Python 3 (ipykernel)",
   "language": "python",
   "name": "python3"
  },
  "language_info": {
   "codemirror_mode": {
    "name": "ipython",
    "version": 3
   },
   "file_extension": ".py",
   "mimetype": "text/x-python",
   "name": "python",
   "nbconvert_exporter": "python",
   "pygments_lexer": "ipython3",
   "version": "3.11.4"
  }
 },
 "nbformat": 4,
 "nbformat_minor": 4
}
