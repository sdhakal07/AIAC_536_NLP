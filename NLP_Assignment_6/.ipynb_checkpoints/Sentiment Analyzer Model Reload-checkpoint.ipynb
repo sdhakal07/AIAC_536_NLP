{
 "cells": [
  {
   "cell_type": "markdown",
   "metadata": {},
   "source": [
    "This notebook explains how to reuse the trained model which we pickled in the notebook title \"Sentiment Analyzer\""
   ]
  },
  {
   "cell_type": "code",
   "execution_count": 19,
   "metadata": {},
   "outputs": [],
   "source": [
    "import warnings"
   ]
  },
  {
   "cell_type": "code",
   "execution_count": 20,
   "metadata": {},
   "outputs": [],
   "source": [
    "def sentiment_pred(classifier, vectorizer, doc):\n",
    "    \"\"\"Function to predict the sentiment of a product review\n",
    "    \n",
    "       classifier : pre-trained model\n",
    "       vectorizer : pre-trained TF-IDF vectorizer\n",
    "       doc : product review whose sentiment needs to be identified\"\"\"\n",
    "       \n",
    "   # Transform the document into feature vectors\n",
    "    X_new = vectorizer.transform([doc])\n",
    "    \n",
    "    # Convert to a dense numpy array\n",
    "    X_new_dense = np.asarray(X_new.todense())\n",
    "    \n",
    "    # Predict the sentiment\n",
    "    y_new = classifier.predict(X_new_dense)\n",
    "    \n",
    "    # Return the sentiment label\n",
    "    if y_new[0] == 0:\n",
    "        return \"Negative\"\n",
    "    else:\n",
    "        return \"Positive\""
   ]
  },
  {
   "cell_type": "code",
   "execution_count": 21,
   "metadata": {},
   "outputs": [
    {
     "name": "stdout",
     "output_type": "stream",
     "text": [
      "Positive\n"
     ]
    }
   ],
   "source": [
    "import pandas as pd\n",
    "import numpy as np \n",
    "import pickle\n",
    "\n",
    "# Load the pre-trained model and vectorizer\n",
    "nb_clf = pickle.load(open(r\"C:\\Users\\Dell\\Downloads\\nb_sa\", 'rb'))\n",
    "vectorizer = pickle.load(open(r\"C:\\Users\\Dell\\Downloads\\vectorizer_sa\", 'rb'))\n",
    "\n",
    "# New document to predict sentiment\n",
    "new_doc = \"Not even close to the quality one would expect\"\n",
    "\n",
    "# Predict sentiment\n",
    "sentiment = sentiment_pred(nb_clf, vectorizer, new_doc)\n",
    "print(sentiment)\n"
   ]
  },
  {
   "cell_type": "markdown",
   "metadata": {},
   "source": [
    "### Summary \n",
    "1. Load Model: Load the pre-trained classifier from the .pkl file.\n",
    "2. Load Vectorizer: Load the pre-trained vectorizer from the .pkl file.\n",
    "3. Transform Review: Convert the product review into a numerical feature matrix using the vectorizer.\n",
    "4. Predict Sentiment: Use the classifier to predict the sentiment based on the transformed features.\n",
    "5. Return Result: Return and print the sentiment label (\"negative sentiment\" or \"positive sentiment\")."
   ]
  }
 ],
 "metadata": {
  "kernelspec": {
   "display_name": "Python 3 (ipykernel)",
   "language": "python",
   "name": "python3"
  },
  "language_info": {
   "codemirror_mode": {
    "name": "ipython",
    "version": 3
   },
   "file_extension": ".py",
   "mimetype": "text/x-python",
   "name": "python",
   "nbconvert_exporter": "python",
   "pygments_lexer": "ipython3",
   "version": "3.11.4"
  }
 },
 "nbformat": 4,
 "nbformat_minor": 4
}
