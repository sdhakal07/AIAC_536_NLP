{
 "cells": [
  {
   "cell_type": "markdown",
   "metadata": {},
   "source": [
    "This notebook explains how to reuse the trained model which we pickled in the notebook title \"Sentiment Analyzer\""
   ]
  },
  {
   "cell_type": "code",
   "execution_count": 1,
   "metadata": {},
   "outputs": [],
   "source": [
    "import warnings"
   ]
  },
  {
   "cell_type": "code",
   "execution_count": 2,
   "metadata": {},
   "outputs": [],
   "source": [
    "def sentiment_pred(classifier, training_matrix, doc):\n",
    "    \"\"\"Function to predict the sentiment of a product review\n",
    "    \n",
    "       classifier : pre-trained model\n",
    "       vectorizer : pre-trained TF-IDF vectorizer\n",
    "       doc : product review whose sentiment needs to be identified\"\"\"\n",
    "    \n",
    "    \n",
    "    X_new = training_matrix.transform(pd.Series(doc)) #don't use fit_transform here because the model is already fitted\n",
    "    X_new =np.asarray(X_new.todense()) #convert sparse matrix to dense\n",
    "\n",
    "    from sklearn.feature_extraction.text import TfidfTransformer\n",
    "    tfidf = TfidfTransformer() #by default applies \"l2\" normalization\n",
    "    \n",
    "    X_tfidf_new = tfidf.fit_transform(X_new)\n",
    "    X_tfidf_new = np.asarray(X_tfidf_new.todense())\n",
    "\n",
    "    y_new = classifier.predict(X_tfidf_new)\n",
    "    if y_new[0] == 0:\n",
    "        return \"negative sentiment\"\n",
    "    elif y_new[0] == 1:\n",
    "        return \"positive sentiment\""
   ]
  },
  {
   "cell_type": "code",
   "execution_count": 3,
   "metadata": {},
   "outputs": [
    {
     "name": "stderr",
     "output_type": "stream",
     "text": [
      "C:\\Users\\Leapfrog\\anaconda3\\Lib\\site-packages\\pandas\\core\\arrays\\masked.py:60: UserWarning: Pandas requires version '1.3.6' or newer of 'bottleneck' (version '1.3.5' currently installed).\n",
      "  from pandas.core import (\n"
     ]
    },
    {
     "name": "stdout",
     "output_type": "stream",
     "text": [
      "negative sentiment\n"
     ]
    }
   ],
   "source": [
    "import pandas as pd\n",
    "import numpy as np \n",
    "import pickle\n",
    "\n",
    "# Load the pre-trained model and vectorizer\n",
    "nb_clf = pickle.load(open(r\"nb_sa\", 'rb'))\n",
    "vectorizer = pickle.load(open(r\"vectorizer_sa\", 'rb'))\n",
    "\n",
    "# New document to predict sentiment\n",
    "new_doc = \"Not even close to the quality one would expect\"\n",
    "\n",
    "# Predict sentiment\n",
    "sentiment = sentiment_pred(nb_clf, vectorizer, new_doc)\n",
    "print(sentiment)\n"
   ]
  },
  {
   "cell_type": "markdown",
   "metadata": {},
   "source": [
    "### Summary \n",
    "1. Load Model: Load the pre-trained classifier from the .pkl file.\n",
    "2. Load Vectorizer: Load the pre-trained vectorizer from the .pkl file.\n",
    "3. Transform Review: Convert the product review into a numerical feature matrix using the vectorizer.\n",
    "4. Predict Sentiment: Use the classifier to predict the sentiment based on the transformed features.\n",
    "5. Return Result: Return and print the sentiment label (\"negative sentiment\" or \"positive sentiment\")."
   ]
  }
 ],
 "metadata": {
  "kernelspec": {
   "display_name": "Python 3 (ipykernel)",
   "language": "python",
   "name": "python3"
  },
  "language_info": {
   "codemirror_mode": {
    "name": "ipython",
    "version": 3
   },
   "file_extension": ".py",
   "mimetype": "text/x-python",
   "name": "python",
   "nbconvert_exporter": "python",
   "pygments_lexer": "ipython3",
   "version": "3.11.4"
  }
 },
 "nbformat": 4,
 "nbformat_minor": 4
}
